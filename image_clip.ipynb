{
 "metadata": {
  "language_info": {
   "codemirror_mode": {
    "name": "ipython",
    "version": 3
   },
   "file_extension": ".py",
   "mimetype": "text/x-python",
   "name": "python",
   "nbconvert_exporter": "python",
   "pygments_lexer": "ipython3",
   "version": "3.7.10"
  },
  "orig_nbformat": 2,
  "kernelspec": {
   "name": "python3710jvsc74a57bd0ce6995e5260f3d17ba777f99880eb99bb4499d971ce283740a27659aee3a2981",
   "display_name": "Python 3.7.10 64-bit ('k37': conda)"
  }
 },
 "nbformat": 4,
 "nbformat_minor": 2,
 "cells": [
  {
   "cell_type": "code",
   "execution_count": null,
   "metadata": {},
   "outputs": [],
   "source": [
    "import moviepy.editor as mpy \n",
    "import os\n",
    "\n",
    "path = '/home/zhrcosta/render/turntable/botte_generative_design_1'\n",
    "folder = os.listdir(path)\n",
    "\n",
    "def NumericNameSort(name):\n",
    "    num = [char for char in name if char.isdigit()]\n",
    "    num = \"\".join(num)\n",
    "    num = int(num)\n",
    "    return num\n",
    "\n",
    "folder.sort(key=NumericNameSort)\n",
    "image_sequence = [f'{path}{files}' for files in folder]\n",
    "\n",
    "video = mpy.ImageSequenceClip(image_sequence, fps=30)\n",
    "video.write_videofile(\"botte_generative_design_1.mp4\")"
   ]
  }
 ]
}